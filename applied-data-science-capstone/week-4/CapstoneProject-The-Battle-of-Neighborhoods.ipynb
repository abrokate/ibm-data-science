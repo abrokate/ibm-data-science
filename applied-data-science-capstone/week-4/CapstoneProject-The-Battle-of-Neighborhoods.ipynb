{
 "cells": [
  {
   "cell_type": "markdown",
   "metadata": {},
   "source": [
    "# Capstone Project - The Battle of Neighborhoods"
   ]
  },
  {
   "cell_type": "markdown",
   "metadata": {},
   "source": [
    "## Introduction"
   ]
  },
  {
   "cell_type": "markdown",
   "metadata": {},
   "source": [
    "This project explored New York City and Toronto City and segmented and clustered their neighborhoods. Both cities are very diverse and are the financial capitals of their respective countries. We will get to see the most common venues for both."
   ]
  },
  {
   "cell_type": "markdown",
   "metadata": {},
   "source": [
    "## Business Problem"
   ]
  },
  {
   "cell_type": "markdown",
   "metadata": {},
   "source": [
    "The idea is to compare the neighborhoods of the two cities and determine how similar or different they are, in terms of restaurants serving typical American food and food from other countries.\n",
    "\n",
    "Both cities have a large movement of immigrants from many parts of the world to work and settle. In this sense, these cities are always open to receive people of different nationalities, although different in some aspects that we are going to observe in this work."
   ]
  },
  {
   "cell_type": "markdown",
   "metadata": {},
   "source": [
    "## Data and Resources "
   ]
  },
  {
   "cell_type": "markdown",
   "metadata": {},
   "source": [
    "Description of the data and how it will be used to solve the problem:\n",
    "\n",
    "•\tList of neighborhood data of New York\n",
    "https://geo.nyu.edu/catalog/nyu_2451_34572\n",
    "\n",
    "•\tList of postal codes of Canada Wiki: https://en.wikipedia.org/wiki/List_of_postal_codes_of_Canada:_M \n",
    "for access to neighborhood data of Toronto region.\n",
    "\n",
    "•\tGeographical coordinates of the neighborhoods of Canada: \n",
    "http://cocl.us/Geospatial_data \n",
    "for getting the longitude and latitude data for the neighborhoods.\n",
    "\n",
    "•\tFoursquare database: https://Foursquare.com to be used in order to explore the desired neighborhood data for various restaurant details and access the JSON files. These data will be used to map typical American restaurants and restaurants from other countries, in both places.\n"
   ]
  },
  {
   "cell_type": "markdown",
   "metadata": {},
   "source": [
    "## Problem solving strategy"
   ]
  },
  {
   "cell_type": "markdown",
   "metadata": {},
   "source": [
    "The idea is to compare Toronto and the New York region for their differences in similarities in terms of the most common places they host. I will specifically compare the number of Hispanic, Chinese, and American food restaurants in both cities, and list the 10 most common places in both cities.\n",
    "\n",
    "The result of this study will help tourists and immigrants to have an overview of the common places in both cities and to know the differences between them, which could help them even more in their decision to travel or choose the destination of immigration."
   ]
  },
  {
   "cell_type": "code",
   "execution_count": null,
   "metadata": {},
   "outputs": [],
   "source": []
  }
 ],
 "metadata": {
  "kernelspec": {
   "display_name": "Python",
   "language": "python",
   "name": "conda-env-python-py"
  },
  "language_info": {
   "codemirror_mode": {
    "name": "ipython",
    "version": 3
   },
   "file_extension": ".py",
   "mimetype": "text/x-python",
   "name": "python",
   "nbconvert_exporter": "python",
   "pygments_lexer": "ipython3",
   "version": "3.6.10"
  }
 },
 "nbformat": 4,
 "nbformat_minor": 4
}
