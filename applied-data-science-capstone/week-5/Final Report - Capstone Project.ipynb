{
 "cells": [
  {
   "cell_type": "markdown",
   "metadata": {},
   "source": [
    "# Final Report - Applied Data Science Capstone\n",
    "# Project: The Battle of Neighborhoods Finding a good place in Brooklyn, New York City"
   ]
  },
  {
   "cell_type": "markdown",
   "metadata": {},
   "source": [
    "## Table of contents\n",
    "\n",
    "[1. Introduction: Business Problem](#introduction)\n",
    "\n",
    "[2. Data](#data)\n",
    "\n",
    "[3. Methodology](#methodology)\n",
    "\n",
    "[4. Analysis](#analysis)\n",
    "\n",
    "[5. Results and Discussion](#results)\n",
    "\n",
    "[Conclusion](#conclusion)"
   ]
  },
  {
   "cell_type": "markdown",
   "metadata": {},
   "source": [
    "## 1. Introduction\n"
   ]
  },
  {
   "cell_type": "markdown",
   "metadata": {},
   "source": [
    "This project explores the city of New York, specifically one of its boroughs: Brooklyn. The neighborhoods in this district are segmented and grouped to see the most common venues. \n",
    "\n",
    "Brooklyn is very diverse and very interrelated with Manhattan, perhaps the best known. We will look at the most common venues for neighborhoods in this borough and visualize some indicators in this study.\n",
    "\n",
    "This Project aim to create an analysis of features for a people traveling to Brooklyn to search a best neighborhood as a comparative analysis between neighborhoods. The features include average sale price and population.\n"
   ]
  },
  {
   "cell_type": "markdown",
   "metadata": {},
   "source": [
    "## 2. Data Section"
   ]
  },
  {
   "cell_type": "markdown",
   "metadata": {},
   "source": [
    "### These are the data used in this project:\n",
    "\n",
    "\n",
    "### 2.1. List of neighborhood data of Brooklyn in New York\n",
    "\n",
    "https://geo.nyu.edu/catalog/nyu_2451_34572\n",
    "\n",
    "It contains the following data:\n",
    "1. Borough\n",
    "2. Neighborhood\n",
    "3. Latitude\n",
    "4. Longitude\n",
    "\n",
    "\n",
    "### 2.2. Foursquare database, to be used in order to explore the desired neighborhood data for various venues details and access the JSON files. \n",
    "\n",
    "https://Foursquare.com\n",
    "\n",
    "The data retrieved from Foursquare contained information of venues within a specified distance of the longitude and latitude of the neighborhoods. The information obtained per venue as follows:\n",
    "\n",
    "1. Neighborhood\n",
    "2. Neighborhood Latitude\n",
    "3. Neighborhood Longitude\n",
    "4. Name of the venue e.g. the name of a store or restaurant\n",
    "5. Venue Latitude\n",
    "6. Venue Longitude\n",
    "7. Venue Category\n",
    "\n",
    "\n",
    "### 2.3. CSV file with Average Sales Price and Population indicators for New York City.\n",
    "\n",
    "This file has been generated with the following data sets downloaded from the NYC Open Data website (opendata.cityofnewyork.us):\n",
    "\n",
    "DOF: Summary of Neighborhood Sales by Neighborhood Citywide by Borough\n",
    "\n",
    "https://data.cityofnewyork.us/City-Government/DOF-Summary-of-Neighborhood-Sales-by-Neighborhood-/5ebm-myj7\n",
    "\n",
    "New York City Population By Neighborhood Tabulation Areas\n",
    "\n",
    "https://data.cityofnewyork.us/City-Government/New-York-City-Population-By-Neighborhood-Tabulatio/swpk-hqdp\n",
    "\n",
    "It contains the following data:\n",
    "\n",
    "1. Neighborhood\n",
    "2. Average Sales Price indicator\n",
    "3. Population indicator\n",
    "\n"
   ]
  },
  {
   "cell_type": "markdown",
   "metadata": {},
   "source": [
    "## 3. Methodology Section\n"
   ]
  },
  {
   "cell_type": "markdown",
   "metadata": {},
   "source": [
    "### 3.1 Clustering Approach:\n",
    "I decided to explore neighborhoods, segment them, and group them into clusters to find similar neighborhoods in a big city like New York (Brooklyn). To be able to do that, we need to cluster data which is a form of unsupervised machine learning: k-means clustering algorithm.\n",
    "\n",
    "### 3.2 Using K-Means Clustering Approach\n",
    "\n",
    "![Using_K-Means_Clustering_Approach](images/Using_K-Means_Clustering_Approach.png)\n",
    "\n",
    "### 3.3 Most Common venues near Neighborhood\n",
    "\n",
    "![Most_Common_venues_near_neighborhood](images/Most_Common_venues_near_neighborhood.png)\n",
    "\n",
    "### 3.4 Workflow\n",
    "Using credentials of Foursquare API features of near-by places of the neighborhoods would be mined. Due to http request limitations the number of places per neighborhood parameter would reasonably be set to 100 and the radius parameter would be set to 500.\n"
   ]
  },
  {
   "cell_type": "markdown",
   "metadata": {},
   "source": [
    "## 4. Results Section\n",
    "\n"
   ]
  },
  {
   "cell_type": "markdown",
   "metadata": {},
   "source": [
    "![Map_of_Neighborhood in Brooklyn](images/Map_of_Brooklyn.png)\n",
    "\n",
    "### 4.1 Map of Clusters in Brooklyn\n",
    "\n",
    "![Map_of_Clusters_Brooklyn](images/Map_of_Clusters_Brooklyn.png)\n",
    "\n",
    "#### Cluster 0\n",
    "![Cluster 0](images/cluster0.png)\n",
    "\n",
    "In cluster 0 in red, the most common venues are restaurants and shops. Perhaps because of its proximity to Manhattan. It is the one with the most neighborhoods, 31 in total.\n",
    "\n",
    "#### Cluster 1\n",
    "![Cluster 1](images/cluster1.png)\n",
    "\n",
    "Cluster 1 in purple is the one with the fewest neighborhoods. The most common venues are stores.\n",
    "\n",
    "#### Cluster 2\n",
    "![Cluster 2](images/cluster2.png)\n",
    "\n",
    "Cluster 2 in blue with 15 neighborhoods, the third with the most neighborhoods. It has more varied venues with shops, restaurants, supermarkets, gyms.\n",
    "\n",
    "#### Cluster 3\n",
    "![Cluster 3](images/cluster3.png)\n",
    "\n",
    "Cluster 3 in green with 2 neighborhoods. Maybe with places more focused on sports activities.\n",
    "\n",
    "#### Cluster 4\n",
    "![Cluster 4](images/cluster4.png)\n",
    "\n",
    "Cluster 4 in beige with 21 neighborhoods, the second with the most neighborhoods. Perhaps with more varied places, restaurants, shops, banks, etc.\n",
    "\n",
    "### 4.2 Average Sales price indicator in Brooklyn\n",
    "#### The 10 neighborhoods with the highest average sales price\n",
    "\n",
    "![The_10_neighborhoods_with_the_highest_average_sales_price](images/The_10_neighborhoods_with_the_highest_average_sales_price.png)\n",
    "\n",
    "The top 10 neighborhoods are in cluster 0. We can assume that cluster 0 has the neighborhoods with the highest average sales price.\n",
    "\n",
    "#### The 10 neighborhoods with the lowest average sales price\n",
    "\n",
    "![The_10_neighborhoods_with_the_lowest_average_sales_price.png](images/The_10_neighborhoods_with_the_lowest_average_sales_price.png)\n",
    "\n",
    "The bottom 10 neighborhoods, 60% are in cluster 2. We can assume that cluster 2 has the most neighborhoods with the lowest average sales price.\n",
    "\n",
    "### 4.3 Population by Neighborhood in Brooklyn\n",
    "\n",
    "#### The 10 neighborhoods with the largest population\n",
    "![The_10_neighborhoods_with_the_largest_population](images/The_10_neighborhoods_with_the_highest_population.png)\n",
    "\n",
    "The top 10 most populated neighborhoods are in clusters 0 and 4.\n",
    "\n",
    "#### The 10 neighborhoods with the smallest population\n",
    "![The_10_neighborhoods_with_the_smallest_population.png](images/The_10_neighborhoods_with_the_lowest_population.png)\n",
    "\n",
    "Similarly, the last 10 neighborhoods with the lowest population are in clusters 0 and 4.\n",
    "\n",
    "### 4.4 The Location\n",
    "New York is a popular destination in the United States to visit and reside. One of its best known borouhgs is Brooklyn, which is considered one of the most diverse and multicultural areas in its metropolitan area.\n",
    "\n",
    "### 4.4 Foursquare API\n",
    "This project have used Four-square API as its prime data gathering source as it has a database of millions of places, especially their places API which provides the ability to perform location search, location sharing and details about a business.\n"
   ]
  },
  {
   "cell_type": "markdown",
   "metadata": {},
   "source": [
    "## 5. Discussion Section\n"
   ]
  },
  {
   "cell_type": "markdown",
   "metadata": {},
   "source": [
    "### 5.1 Problem to be solved\n",
    "\n",
    "The main purpose of this project is to suggest a better neighborhood in Brooklyn (one of the boroughs of New York City) for the person who moves or wants to reside there. Issues such as social presence in society in terms of like-minded people, communications, house prices, shops, schools, sports centers and other daily needs.\n",
    "\n",
    "### 5.2 Using the average sales price and population indicators\n",
    "We have the views of:\n",
    "\n",
    "1. Top 10 Neighborhoods with Highest Average Sales Price\n",
    "2. Top 10 Neighborhoods with Lowest Average Sales Price\n",
    "3. Top 10 neighborhoods with the largest population\n",
    "4. Top 10 neighborhoods with the smallest population\n",
    "\n",
    "### 5.3 Conclusions:\n",
    "\n",
    "Clusters 2 and 4 contain the most varied neighborhoods with shops, restaurants, schools, gyms, etc.\n",
    "\n",
    "The average of the highest sale price is in cluster 0. While the cheapest are in cluster 2 and also in 0.\n",
    "\n",
    "Regarding Population, clusters 0 and 4 have quite a few neighborhoods with the largest and smallest population.\n",
    "\n",
    "### 5.4 Recommendation\n",
    "\n",
    "If you are looking for a neighborhood with the most varied sites, that the sale price averages are inexpensive, and that have a population that is neither too high nor too low, the recommendation would be neighborhoods in cluster 2."
   ]
  },
  {
   "cell_type": "markdown",
   "metadata": {},
   "source": [
    "## 6. Conclusion Section\n"
   ]
  },
  {
   "cell_type": "markdown",
   "metadata": {},
   "source": [
    "In this project I have used the k-means cluster algorithm, I have separated the neighborhood into 5 different clusters and for 70 different latitude and longitude of the dataset, which have very similar neighborhoods around them. Using the graphs above, the results presented to a particular neighborhood are based on average selling prices and population indicators.\n",
    "\n",
    "I think this course with all the topics covered is worthy of appreciation and I feel rewarded for the effort made. This project presents a practical case to solve a real situation that has personal and financial impact using Data Science tools. Folium mapping is a very powerful technique to consolidate information and improve analysis and decision with confidence.\n",
    "\n",
    "Future work\n",
    "\n",
    "This project can continue by adding new indicators for the different neighborhoods in Brooklyn that allow finding the best house to live in, taking into consideration other criteria for current needs."
   ]
  },
  {
   "cell_type": "markdown",
   "metadata": {},
   "source": [
    "## Appendix"
   ]
  },
  {
   "cell_type": "markdown",
   "metadata": {},
   "source": [
    "### Libraries Which are Used to Develope the Project:\n",
    "\n",
    "Pandas: For creating and manipulating dataframes.\n",
    "\n",
    "Folium: Python visualization library would be used to visualize the neighborhoods cluster distribution of using interactive leaflet map.\n",
    "\n",
    "Scikit Learn: For importing k-means clustering.\n",
    "\n",
    "JSON: Library to handle JSON files.\n",
    "\n",
    "Geocoder: To retrieve Location Data.\n",
    "\n",
    "Matplotlib: Python Plotting Module."
   ]
  }
 ],
 "metadata": {
  "kernelspec": {
   "display_name": "Python",
   "language": "python",
   "name": "conda-env-python-py"
  },
  "language_info": {
   "codemirror_mode": {
    "name": "ipython",
    "version": 3
   },
   "file_extension": ".py",
   "mimetype": "text/x-python",
   "name": "python",
   "nbconvert_exporter": "python",
   "pygments_lexer": "ipython3",
   "version": "3.6.11"
  }
 },
 "nbformat": 4,
 "nbformat_minor": 4
}
